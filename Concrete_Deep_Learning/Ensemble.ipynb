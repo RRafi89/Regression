{
 "cells": [
  {
   "cell_type": "markdown",
   "metadata": {},
   "source": [
    "# Concrete Strength Prediction Using Ensemble Methods\n",
    "---\n",
    "*Created: Md. Rafiquzzaman Rafi*\n",
    "\n",
    "*Date: 27 August, 2024*\n",
    "\n",
    "---\n",
    "\n",
    "This notebook demonstrates how to use ensemble methods to predict concrete compressive strength using Random Forest Regressor and Neural Networks. \n",
    "\n",
    "The workflow includes:\n",
    "1. **Data Loading and Preprocessing**\n",
    "2. **Model Training**\n",
    "3. **Evaluation**\n",
    "4. **Ensemble Prediction**\n",
    "5. **Saving Models and Components**\n",
    "6. **Load the model and components**\n",
    "\n",
    "Let's start by loading the necessary libraries and the dataset.\n"
   ]
  },
  {
   "cell_type": "code",
   "execution_count": 1,
   "metadata": {},
   "outputs": [],
   "source": [
    "import pandas as pd\n",
    "from sklearn.model_selection import train_test_split\n",
    "from sklearn.preprocessing import StandardScaler\n",
    "from sklearn.ensemble import RandomForestRegressor\n",
    "import tensorflow as tf\n",
    "from tensorflow.keras.models import Sequential\n",
    "from tensorflow.keras.layers import Dense, Dropout\n",
    "from tensorflow.keras.callbacks import EarlyStopping\n",
    "from sklearn.metrics import mean_squared_error, r2_score\n",
    "from tensorflow.keras.optimizers import Adam\n",
    "\n",
    "# Load the dataset\n",
    "data = pd.read_csv('Concrete_Data.csv')\n",
    "\n",
    "# Rename columns for easier access\n",
    "data = data.rename(columns={\n",
    "    'Cement (component 1)(kg in a m^3 mixture)': 'cement',\n",
    "    'Blast Furnace Slag (component 2)(kg in a m^3 mixture)': 'blast_furnace_slag',\n",
    "    'Fly Ash (component 3)(kg in a m^3 mixture)': 'fly_ash',\n",
    "    'Water  (component 4)(kg in a m^3 mixture)': 'water',\n",
    "    'Superplasticizer (component 5)(kg in a m^3 mixture)': 'superplasticizer',\n",
    "    'Coarse Aggregate  (component 6)(kg in a m^3 mixture)': 'coarse_aggregate',\n",
    "    'Fine Aggregate (component 7)(kg in a m^3 mixture)': 'fine_aggregate',\n",
    "    'Age (day)': 'age',\n",
    "    'Concrete compressive strength(MPa, megapascals) ': 'compressive_strength'\n",
    "})\n",
    "\n",
    "# Create additional features\n",
    "data['cement_coarse'] = data.cement / data.coarse_aggregate\n",
    "data['cement_fine'] = data.cement / data.fine_aggregate\n",
    "\n",
    "# Define features and target variable\n",
    "X = data.drop(['compressive_strength'], axis=1)\n",
    "y = data['compressive_strength']\n",
    "\n",
    "# Normalize the features\n",
    "scaler = StandardScaler()\n",
    "X = scaler.fit_transform(X)\n",
    "\n",
    "# Split the data into training and test sets\n",
    "X_train, X_test, y_train, y_test = train_test_split(X, y, test_size=0.2, random_state=42)"
   ]
  },
  {
   "cell_type": "markdown",
   "metadata": {},
   "source": [
    "## Model Definitions\n",
    "\n",
    "### Neural Network Model\n",
    "\n",
    "We define a neural network with the following architecture:\n",
    "- Dense layers with ReLU activation\n",
    "- Dropout for regularization\n",
    "- Output layer with ReLU activation\n",
    "\n",
    "### Random Forest Regressor\n",
    "\n",
    "We use a Random Forest Regressor with default hyperparameters for comparison.\n"
   ]
  },
  {
   "cell_type": "code",
   "execution_count": 2,
   "metadata": {},
   "outputs": [
    {
     "name": "stderr",
     "output_type": "stream",
     "text": [
      "c:\\Users\\rafiq\\AppData\\Local\\Programs\\Python\\Python311\\Lib\\site-packages\\keras\\src\\layers\\core\\dense.py:87: UserWarning: Do not pass an `input_shape`/`input_dim` argument to a layer. When using Sequential models, prefer using an `Input(shape)` object as the first layer in the model instead.\n",
      "  super().__init__(activity_regularizer=activity_regularizer, **kwargs)\n"
     ]
    }
   ],
   "source": [
    "def build_model():\n",
    "    model = Sequential()\n",
    "    model.add(Dense(256, input_dim=X_train.shape[1], activation='relu'))\n",
    "    model.add(Dense(128, activation='relu'))\n",
    "    model.add(Dropout(0.2))\n",
    "    model.add(Dense(1024, activation='relu'))\n",
    "    model.add(Dropout(0.2))\n",
    "    model.add(Dense(1, activation='relu'))\n",
    "    model.compile(optimizer=Adam(learning_rate=0.001), loss='mse', metrics=['mae'])\n",
    "    return model\n",
    "\n",
    "# Initialize and train the Neural Network\n",
    "model = build_model()\n",
    "\n",
    "# Initialize and train the Random Forest Regressor\n",
    "rf = RandomForestRegressor(\n",
    "    max_depth=None,\n",
    "    max_features=\"log2\",\n",
    "    min_samples_leaf=1,\n",
    "    min_samples_split=2,\n",
    "    n_estimators=300,\n",
    "    random_state=42,\n",
    ")\n",
    "rf.fit(X_train, y_train)\n",
    "\n",
    "# Train the Neural Network model\n",
    "history = model.fit(X_train, y_train, \n",
    "                    validation_split=0.2,\n",
    "                    epochs=100, \n",
    "                    batch_size=16, \n",
    "                    callbacks=[EarlyStopping(monitor='val_loss', patience=10, restore_best_weights=True)],\n",
    "                    verbose=0)\n"
   ]
  },
  {
   "cell_type": "markdown",
   "metadata": {},
   "source": [
    "## Evaluation\n",
    "\n",
    "We evaluate both models and calculate the performance metrics on the test set.\n"
   ]
  },
  {
   "cell_type": "code",
   "execution_count": 3,
   "metadata": {},
   "outputs": [
    {
     "name": "stdout",
     "output_type": "stream",
     "text": [
      "Test Loss: 33.8419, Test MAE: 4.1719\n",
      "Random Forest MSE: 27.4620\n",
      "Random Forest R² Score: 0.8934\n",
      "\u001b[1m7/7\u001b[0m \u001b[32m━━━━━━━━━━━━━━━━━━━━\u001b[0m\u001b[37m\u001b[0m \u001b[1m0s\u001b[0m 20ms/step\n",
      "Neural Network MSE: 33.8419\n",
      "Neural Network R² Score: 0.8687\n"
     ]
    }
   ],
   "source": [
    "# Evaluate the Neural Network model\n",
    "test_loss, test_mae = model.evaluate(X_test, y_test, verbose=0)\n",
    "print(f'Test Loss: {test_loss:.4f}, Test MAE: {test_mae:.4f}')\n",
    "\n",
    "# Predict with the Random Forest model\n",
    "rf_predictions = rf.predict(X_test)\n",
    "rf_mse = mean_squared_error(y_test, rf_predictions)\n",
    "rf_r2 = r2_score(y_test, rf_predictions)\n",
    "print(f'Random Forest MSE: {rf_mse:.4f}')\n",
    "print(f'Random Forest R² Score: {rf_r2:.4f}')\n",
    "\n",
    "# Predict with the Neural Network model\n",
    "nn_predictions = model.predict(X_test).flatten()\n",
    "nn_mse = mean_squared_error(y_test, nn_predictions)\n",
    "nn_r2 = r2_score(y_test, nn_predictions)\n",
    "print(f'Neural Network MSE: {nn_mse:.4f}')\n",
    "print(f'Neural Network R² Score: {nn_r2:.4f}')"
   ]
  },
  {
   "cell_type": "markdown",
   "metadata": {},
   "source": [
    "## Ensemble Prediction\n",
    "\n",
    "We combine the predictions from the Random Forest and Neural Network models to create an ensemble prediction and evaluate its performance.\n"
   ]
  },
  {
   "cell_type": "code",
   "execution_count": 4,
   "metadata": {},
   "outputs": [
    {
     "name": "stdout",
     "output_type": "stream",
     "text": [
      "Ensemble MSE: 26.9487\n",
      "Ensemble R² Score: 0.8954\n"
     ]
    }
   ],
   "source": [
    "# Combine Random Forest predictions with Neural Network predictions\n",
    "ensemble_predictions = 0.5 * rf_predictions + 0.5 * nn_predictions\n",
    "\n",
    "# Calculate the ensemble MSE and R² score\n",
    "ensemble_mse = mean_squared_error(y_test, ensemble_predictions)\n",
    "ensemble_r2 = r2_score(y_test, ensemble_predictions)\n",
    "print(f'Ensemble MSE: {ensemble_mse:.4f}')\n",
    "print(f'Ensemble R² Score: {ensemble_r2:.4f}')"
   ]
  },
  {
   "cell_type": "markdown",
   "metadata": {},
   "source": [
    "## Saving Models and Components\n",
    "\n",
    "Here we save the trained models and other components for future use.\n"
   ]
  },
  {
   "cell_type": "code",
   "execution_count": 5,
   "metadata": {},
   "outputs": [],
   "source": [
    "import pickle\n",
    "import joblib\n",
    "from tensorflow.keras.models import save_model\n",
    "\n",
    "# Save Random Forest model\n",
    "rf_path = 'random_forest_model.pkl'\n",
    "joblib.dump(rf, rf_path)\n",
    "\n",
    "# Save Neural Network model\n",
    "nn_model_path = 'neural_network_model.keras'\n",
    "model.save(nn_model_path)\n",
    "\n",
    "# Save Scaler\n",
    "scaler_path = 'scaler.pkl'\n",
    "joblib.dump(scaler, scaler_path)\n",
    "\n",
    "# Define ensemble configuration\n",
    "ensemble_config = {\n",
    "    'rf_weight': 0.5,\n",
    "    'nn_weight': 0.5,\n",
    "    'rf_model_path': rf_path,\n",
    "    'nn_model_path': nn_model_path,\n",
    "    'scaler_path': scaler_path\n",
    "}\n",
    "\n",
    "# Save all components in one file\n",
    "with open('ensemble_model.pkl', 'wb') as f:\n",
    "    pickle.dump(ensemble_config, f)\n"
   ]
  },
  {
   "cell_type": "markdown",
   "metadata": {},
   "source": [
    "## Loading Models and Components\n",
    "\n",
    "Here we load the trained models and other components for future use."
   ]
  },
  {
   "cell_type": "code",
   "execution_count": 6,
   "metadata": {},
   "outputs": [],
   "source": [
    "import pickle\n",
    "import joblib\n",
    "from tensorflow.keras.models import load_model\n",
    "\n",
    "# Load the ensemble configuration\n",
    "with open('ensemble_model.pkl', 'rb') as f:\n",
    "    ensemble_config = pickle.load(f)\n",
    "\n",
    "# Load Random Forest model\n",
    "rf = joblib.load(ensemble_config['rf_model_path'])\n",
    "\n",
    "# Load Neural Network model\n",
    "nn_model = load_model(ensemble_config['nn_model_path'])\n",
    "\n",
    "# Load Scaler\n",
    "scaler = joblib.load(ensemble_config['scaler_path'])\n",
    "\n",
    "# Extract weights from the configuration\n",
    "rf_weight = ensemble_config['rf_weight']\n",
    "nn_weight = ensemble_config['nn_weight']"
   ]
  },
  {
   "cell_type": "markdown",
   "metadata": {},
   "source": [
    "# Data Source\n",
    "\n",
    "---\n",
    "  Original Owner and Donor\n",
    "\n",
    "  Prof. I-Cheng Yeh\n",
    "\n",
    "  Department of Information Management\n",
    "\n",
    "  Chung-Hua University, \n",
    "\n",
    "  Hsin Chu, Taiwan 30067, R.O.C.\n",
    "\n",
    "  e-mail:icyeh@chu.edu.tw\n",
    "  \n",
    "  TEL:886-3-5186511\n",
    "\n",
    "  Date Donated: August 3, 2007\n",
    " \n",
    "---"
   ]
  }
 ],
 "metadata": {
  "kernelspec": {
   "display_name": "Python 3",
   "language": "python",
   "name": "python3"
  },
  "language_info": {
   "codemirror_mode": {
    "name": "ipython",
    "version": 3
   },
   "file_extension": ".py",
   "mimetype": "text/x-python",
   "name": "python",
   "nbconvert_exporter": "python",
   "pygments_lexer": "ipython3",
   "version": "3.11.8"
  }
 },
 "nbformat": 4,
 "nbformat_minor": 2
}
